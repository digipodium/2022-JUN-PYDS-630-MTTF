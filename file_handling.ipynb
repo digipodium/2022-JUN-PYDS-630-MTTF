{
 "cells": [
  {
   "cell_type": "markdown",
   "metadata": {},
   "source": [
    "# file handling\n",
    "In coding we have 3 types of Files:\n",
    "- text files (.txt, .ini, .py, .md, .html, .css, .js, etc)\n",
    "- binary files (.jpg, .png, .zip, .mp3, .mp4, .avi, etc)\n",
    "- proprietary files (.docx, .xlsx, .pptx, .pdf, .blend etc)\n",
    "\n",
    "we are going to tackle first type"
   ]
  },
  {
   "cell_type": "markdown",
   "metadata": {},
   "source": [
    "File handling is the process of opening, reading, modifying, and closing files.\n"
   ]
  },
  {
   "cell_type": "markdown",
   "metadata": {},
   "source": [
    "### READING A FILE"
   ]
  },
  {
   "cell_type": "code",
   "execution_count": null,
   "metadata": {},
   "outputs": [],
   "source": [
    "f = open(r'example.py') # load file into a variable\n",
    "content = f.read() # read the file\n",
    "f.close() # close the file"
   ]
  },
  {
   "cell_type": "code",
   "execution_count": null,
   "metadata": {},
   "outputs": [],
   "source": [
    "print(content)"
   ]
  },
  {
   "cell_type": "code",
   "execution_count": null,
   "metadata": {},
   "outputs": [],
   "source": [
    "with open('example4.py') as file:\n",
    "    print(file.read())"
   ]
  },
  {
   "cell_type": "code",
   "execution_count": null,
   "metadata": {},
   "outputs": [],
   "source": [
    "f2 = open(r'C:\\Users\\ZAID\\Pictures\\transparent.png', 'rb')\n",
    "print(f2.read())\n",
    "f2.close()"
   ]
  },
  {
   "cell_type": "markdown",
   "metadata": {},
   "source": [
    "### WRITING CONTENT IN A TEXT FILE"
   ]
  },
  {
   "cell_type": "code",
   "execution_count": 19,
   "metadata": {},
   "outputs": [],
   "source": [
    "kahani = \"Once upon a time, there was planet that was green, and blue, the end\"\n",
    "file = open('kahani1.txt', 'w')\n",
    "file.write(kahani)\n",
    "file.close() # save the file"
   ]
  },
  {
   "cell_type": "code",
   "execution_count": 22,
   "metadata": {},
   "outputs": [],
   "source": [
    "info = input('enter the info:')\n",
    "with open('info.txt', 'w') as f:\n",
    "    f.write(info)\n",
    "    f.write('\\n')\n",
    "    f.write('author\\n')\n",
    "    f.write('Zaid Kamil')"
   ]
  },
  {
   "cell_type": "markdown",
   "metadata": {},
   "source": [
    "### ADDING CONTENT TO A FILE"
   ]
  },
  {
   "cell_type": "code",
   "execution_count": 23,
   "metadata": {},
   "outputs": [],
   "source": [
    "data = input(\"enter the content \")\n",
    "with open('kahani1.txt', 'a') as f:\n",
    "    f.write(\"\\n\"+data)"
   ]
  }
 ],
 "metadata": {
  "kernelspec": {
   "display_name": "Python 3.9.13 ('base')",
   "language": "python",
   "name": "python3"
  },
  "language_info": {
   "codemirror_mode": {
    "name": "ipython",
    "version": 3
   },
   "file_extension": ".py",
   "mimetype": "text/x-python",
   "name": "python",
   "nbconvert_exporter": "python",
   "pygments_lexer": "ipython3",
   "version": "3.9.13"
  },
  "orig_nbformat": 4,
  "vscode": {
   "interpreter": {
    "hash": "203ec5af3e26acf3e3c83a4183d4b4efe59642f60e2721ccf6236536a59ece46"
   }
  }
 },
 "nbformat": 4,
 "nbformat_minor": 2
}
