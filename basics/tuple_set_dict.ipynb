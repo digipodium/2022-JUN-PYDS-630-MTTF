{
 "cells": [
  {
   "cell_type": "code",
   "execution_count": 1,
   "metadata": {},
   "outputs": [],
   "source": [
    "x = (1,23,4,5)"
   ]
  },
  {
   "cell_type": "code",
   "execution_count": 2,
   "metadata": {},
   "outputs": [
    {
     "name": "stdout",
     "output_type": "stream",
     "text": [
      "(1, 23, 4, 5) [1, 23, 4, 5]\n"
     ]
    }
   ],
   "source": [
    "xl = list(x)\n",
    "print(x, xl)"
   ]
  },
  {
   "cell_type": "code",
   "execution_count": 3,
   "metadata": {},
   "outputs": [
    {
     "name": "stdout",
     "output_type": "stream",
     "text": [
      "(1, 23, 4, 5) {1, 4, 5, 23}\n"
     ]
    }
   ],
   "source": [
    "xs = set(x)\n",
    "print(x, xs)"
   ]
  },
  {
   "cell_type": "code",
   "execution_count": 2,
   "metadata": {},
   "outputs": [],
   "source": [
    "students = {\n",
    "    'Amit': {'eng': 90,'math': 80,'sci': 70,'hindi': 60,'evs':90},\n",
    "    'Vinay': {'eng': 80,'math': 70,'sci': 60,'hindi': 50,'evs':80,},\n",
    "    'Raj': {'eng': 70,'math': 60,'sci': 50,'hindi': 40,'evs':70,},\n",
    "}"
   ]
  },
  {
   "cell_type": "code",
   "execution_count": 3,
   "metadata": {},
   "outputs": [
    {
     "data": {
      "text/plain": [
       "{'eng': 70, 'math': 60, 'sci': 50, 'hindi': 40, 'evs': 70}"
      ]
     },
     "execution_count": 3,
     "metadata": {},
     "output_type": "execute_result"
    }
   ],
   "source": [
    "students['Raj']"
   ]
  },
  {
   "cell_type": "code",
   "execution_count": 5,
   "metadata": {},
   "outputs": [
    {
     "data": {
      "text/plain": [
       "60"
      ]
     },
     "execution_count": 5,
     "metadata": {},
     "output_type": "execute_result"
    }
   ],
   "source": [
    "students['Amit']['hindi']"
   ]
  },
  {
   "cell_type": "code",
   "execution_count": 11,
   "metadata": {},
   "outputs": [
    {
     "name": "stdout",
     "output_type": "stream",
     "text": [
      "Student : Amit\n",
      "=> eng: 90\n",
      "=> math: 80\n",
      "=> sci: 70\n",
      "=> hindi: 60\n",
      "=> evs: 90\n",
      "--------------------\n",
      "Student : Vinay\n",
      "=> eng: 80\n",
      "=> math: 70\n",
      "=> sci: 60\n",
      "=> hindi: 50\n",
      "=> evs: 80\n",
      "--------------------\n",
      "Student : Raj\n",
      "=> eng: 70\n",
      "=> math: 60\n",
      "=> sci: 50\n",
      "=> hindi: 40\n",
      "=> evs: 70\n",
      "--------------------\n"
     ]
    }
   ],
   "source": [
    "for name, marks in students.items():\n",
    "    print(\"Student :\",name)\n",
    "    for sub,mark in marks.items():\n",
    "        print(f'=> {sub}: {mark}')\n",
    "    print('-'*20)"
   ]
  },
  {
   "cell_type": "code",
   "execution_count": null,
   "metadata": {},
   "outputs": [],
   "source": []
  }
 ],
 "metadata": {
  "kernelspec": {
   "display_name": "Python 3.9.13 ('base')",
   "language": "python",
   "name": "python3"
  },
  "language_info": {
   "codemirror_mode": {
    "name": "ipython",
    "version": 3
   },
   "file_extension": ".py",
   "mimetype": "text/x-python",
   "name": "python",
   "nbconvert_exporter": "python",
   "pygments_lexer": "ipython3",
   "version": "3.9.13"
  },
  "orig_nbformat": 4,
  "vscode": {
   "interpreter": {
    "hash": "203ec5af3e26acf3e3c83a4183d4b4efe59642f60e2721ccf6236536a59ece46"
   }
  }
 },
 "nbformat": 4,
 "nbformat_minor": 2
}
