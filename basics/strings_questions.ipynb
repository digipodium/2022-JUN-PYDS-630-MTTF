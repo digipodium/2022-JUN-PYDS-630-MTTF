{
 "cells": [
  {
   "cell_type": "markdown",
   "metadata": {},
   "source": [
    "# Question\n",
    "- Remove all the vowels from a string that is provided by the user. 👍\n",
    "- Count all the vowels in a string that is provided by the user.\n",
    "- Count all the word occurences in a string that is provided by the user. 👍\n",
    "- Find all the indexes of a word in a string. 👍\n",
    "- remove every occurence of a word in a string.\n",
    "- remove all the spaces from a string.\n",
    "- replace every vowels with following logic : a -> 1, e -> 2, i -> 3, o -> 4, u -> 5. 👍"
   ]
  },
  {
   "cell_type": "code",
   "execution_count": 4,
   "metadata": {},
   "outputs": [
    {
     "name": "stdout",
     "output_type": "stream",
     "text": [
      "xmpl f  mssg\n"
     ]
    }
   ],
   "source": [
    "# removing all the vowels\n",
    "msg = input(\"enter something: \")\n",
    "for v in 'aieouAEIOU':\n",
    "    msg = msg.replace(v,'')\n",
    "print(msg)"
   ]
  },
  {
   "cell_type": "code",
   "execution_count": 16,
   "metadata": {},
   "outputs": [
    {
     "name": "stdout",
     "output_type": "stream",
     "text": [
      "that => 4\n",
      "this => 3\n"
     ]
    }
   ],
   "source": [
    "msg = input(\"enter something: \")\n",
    "words = set(msg.split())\n",
    "for w in words:\n",
    "    c = msg.count(w)\n",
    "    print(w,'=>',c)"
   ]
  },
  {
   "cell_type": "code",
   "execution_count": 24,
   "metadata": {},
   "outputs": [
    {
     "name": "stdout",
     "output_type": "stream",
     "text": [
      "an found at position 8\n",
      "an found at position 22\n",
      "an found at position 62\n"
     ]
    }
   ],
   "source": [
    "story = '''This is an example of another story,\n",
    "this story is not simple and is not very long,\n",
    "but it is a story'''\n",
    "\n",
    "q = input(\"enter search term: \")\n",
    "start = 0\n",
    "while True:\n",
    "    idx = story.find(q,start)\n",
    "    if idx == -1:\n",
    "        break\n",
    "    print(f'{q} found at position {idx}')\n",
    "    start = idx + 1"
   ]
  },
  {
   "cell_type": "code",
   "execution_count": 25,
   "metadata": {},
   "outputs": [
    {
     "name": "stdout",
     "output_type": "stream",
     "text": [
      "Th3s 3s 1n 2x1mpl2 4f 1n4th2r st4ry,\n",
      "th3s st4ry 3s n4t s3mpl2 1nd 3s n4t v2ry l4ng,\n",
      "b5t 3t 3s 1 st4ry\n"
     ]
    }
   ],
   "source": [
    "story = '''This is an example of another story,\n",
    "this story is not simple and is not very long,\n",
    "but it is a story'''\n",
    "\n",
    "for v in \"aieouAEIOU\":\n",
    "    if v == 'a' or v == 'A':\n",
    "        story = story.replace(v,'1')\n",
    "    if v == 'e' or v == 'E':\n",
    "        story = story.replace(v,'2')\n",
    "    if v == 'i' or v == 'I':\n",
    "        story = story.replace(v,'3')\n",
    "    if v == 'o' or v == 'O':\n",
    "        story = story.replace(v,'4')\n",
    "    if v == 'u' or v == 'U':\n",
    "        story = story.replace(v,'5')\n",
    "print(story)"
   ]
  },
  {
   "cell_type": "code",
   "execution_count": null,
   "metadata": {},
   "outputs": [],
   "source": []
  }
 ],
 "metadata": {
  "kernelspec": {
   "display_name": "Python 3.9.13 ('base')",
   "language": "python",
   "name": "python3"
  },
  "language_info": {
   "codemirror_mode": {
    "name": "ipython",
    "version": 3
   },
   "file_extension": ".py",
   "mimetype": "text/x-python",
   "name": "python",
   "nbconvert_exporter": "python",
   "pygments_lexer": "ipython3",
   "version": "3.9.13"
  },
  "orig_nbformat": 4,
  "vscode": {
   "interpreter": {
    "hash": "203ec5af3e26acf3e3c83a4183d4b4efe59642f60e2721ccf6236536a59ece46"
   }
  }
 },
 "nbformat": 4,
 "nbformat_minor": 2
}
